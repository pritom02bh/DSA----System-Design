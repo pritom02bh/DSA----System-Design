{
 "cells": [
  {
   "cell_type": "markdown",
   "metadata": {},
   "source": [
    "### Data Structures\n",
    "1. **Linear Data Structures:** Sequential Orders, having only one predecessor and successor. <br>\n",
    "Example: Linked List, Array, Queue, Stack\n",
    "\n",
    "2. **Non Linear Data Structures:** Not Sequential <br>\n",
    "Example: Tree, Graph\n",
    "\n",
    "3. **Static Data Structure:** "
   ]
  },
  {
   "cell_type": "code",
   "execution_count": null,
   "metadata": {},
   "outputs": [],
   "source": []
  }
 ],
 "metadata": {
  "language_info": {
   "name": "python"
  }
 },
 "nbformat": 4,
 "nbformat_minor": 2
}
